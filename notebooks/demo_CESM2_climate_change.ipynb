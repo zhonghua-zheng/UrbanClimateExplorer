{
 "cells": [
  {
   "cell_type": "markdown",
   "id": "26efd514",
   "metadata": {},
   "source": [
    "## Example for CESM2 Climate Change"
   ]
  },
  {
   "cell_type": "markdown",
   "id": "dd3f8e4a-6a62-4434-a7aa-8cf913527976",
   "metadata": {},
   "source": [
    "Here, we load present (2016-01-02 to 2035-12-31) and future (2066-01-02 to 2085-12-31) data, and evaluate the applicability of a machine learning model trained on the present climate for predicting future urban climate.\n",
    "\n",
    "**NOTE**: Compared to the CESM1 demo, here \"Q\" (QBOT), \"U\" (UBOT) and \"V\" (VBOT) are not included. When the bottom \"lev\" of \"Q\", \"U\", and \"V\" are merged, there is an issue.   \n",
    "\n",
    "Reference:     \n",
    "- GitHub: https://github.com/NCAR/cesm2-le-aws    \n",
    "- Data/Variables Information: https://ncar.github.io/cesm2-le-aws/model_documentation.html#data-catalog       \n",
    "- Reproduce CESM-LENS: https://github.com/NCAR/cesm2-le-aws/blob/main/notebooks/kay_et_al_lens2.ipynb   "
   ]
  },
  {
   "cell_type": "markdown",
   "id": "insured-finnish",
   "metadata": {},
   "source": [
    "**Step 0: load necessary packages and define parameters (no need to change)**"
   ]
  },
  {
   "cell_type": "code",
   "execution_count": 1,
   "id": "20910345",
   "metadata": {},
   "outputs": [
    {
     "name": "stdout",
     "output_type": "stream",
     "text": [
      "CPU times: user 1.76 s, sys: 338 ms, total: 2.1 s\n",
      "Wall time: 2.1 s\n"
     ]
    },
    {
     "name": "stderr",
     "output_type": "stream",
     "text": [
      "/glade/work/zhonghua/miniconda3/envs/aws_urban/lib/python3.8/site-packages/xgboost/compat.py:31: FutureWarning: pandas.Int64Index is deprecated and will be removed from pandas in a future version. Use pandas.Index with the appropriate dtype instead.\n",
      "  from pandas import MultiIndex, Int64Index\n"
     ]
    }
   ],
   "source": [
    "%%time\n",
    "# Display output of plots directly in Notebook\n",
    "%matplotlib inline\n",
    "import matplotlib.pyplot as plt\n",
    "import pandas as pd\n",
    "import json\n",
    "from flaml import AutoML\n",
    "from sklearn.metrics import mean_squared_error, r2_score\n",
    "from sklearn.model_selection import train_test_split\n",
    "import math\n",
    "import seaborn as sns\n",
    "import util\n",
    "import gc\n",
    "\n",
    "import warnings\n",
    "warnings.filterwarnings(\"ignore\")"
   ]
  },
  {
   "cell_type": "markdown",
   "id": "45c8e9b1",
   "metadata": {},
   "source": [
    "### Step 1: load future data (2066-01-02 to 2085-12-31)"
   ]
  },
  {
   "cell_type": "code",
   "execution_count": 2,
   "id": "8d4982fa",
   "metadata": {},
   "outputs": [
    {
     "name": "stdout",
     "output_type": "stream",
     "text": [
      "\n",
      "--> The keys in the returned dictionary of datasets are constructed as follows:\n",
      "\t'component.experiment.frequency.forcing_variant'\n"
     ]
    },
    {
     "data": {
      "text/html": [
       "\n",
       "<style>\n",
       "    /* Turns off some styling */\n",
       "    progress {\n",
       "        /* gets rid of default border in Firefox and Opera. */\n",
       "        border: none;\n",
       "        /* Needs to be in here for Safari polyfill so background images work as expected. */\n",
       "        background-size: auto;\n",
       "    }\n",
       "    .progress-bar-interrupted, .progress-bar-interrupted::-webkit-progress-bar {\n",
       "        background: #F44336;\n",
       "    }\n",
       "</style>\n"
      ],
      "text/plain": [
       "<IPython.core.display.HTML object>"
      ]
     },
     "metadata": {},
     "output_type": "display_data"
    },
    {
     "data": {
      "text/html": [
       "\n",
       "    <div>\n",
       "      <progress value='2' class='' max='2' style='width:300px; height:20px; vertical-align: middle;'></progress>\n",
       "      100.00% [2/2 00:01<00:00]\n",
       "    </div>\n",
       "    "
      ],
      "text/plain": [
       "<IPython.core.display.HTML object>"
      ]
     },
     "metadata": {},
     "output_type": "display_data"
    },
    {
     "name": "stdout",
     "output_type": "stream",
     "text": [
      "different lat between CAM and CLM subgrid info, adjust subgrid info's lat\n"
     ]
    },
    {
     "data": {
      "text/html": [
       "<div>\n",
       "<style scoped>\n",
       "    .dataframe tbody tr th:only-of-type {\n",
       "        vertical-align: middle;\n",
       "    }\n",
       "\n",
       "    .dataframe tbody tr th {\n",
       "        vertical-align: top;\n",
       "    }\n",
       "\n",
       "    .dataframe thead th {\n",
       "        text-align: right;\n",
       "    }\n",
       "</style>\n",
       "<table border=\"1\" class=\"dataframe\">\n",
       "  <thead>\n",
       "    <tr style=\"text-align: right;\">\n",
       "      <th></th>\n",
       "      <th>FLNS</th>\n",
       "      <th>FSNS</th>\n",
       "      <th>PRECT</th>\n",
       "      <th>PRSN</th>\n",
       "      <th>TREFHT</th>\n",
       "      <th>TREFHTMX</th>\n",
       "      <th>TREFHTMN</th>\n",
       "    </tr>\n",
       "  </thead>\n",
       "  <tbody>\n",
       "    <tr>\n",
       "      <th>3141</th>\n",
       "      <td>132.101913</td>\n",
       "      <td>282.795959</td>\n",
       "      <td>1.133692e-18</td>\n",
       "      <td>1.683445e-22</td>\n",
       "      <td>301.627167</td>\n",
       "      <td>308.214355</td>\n",
       "      <td>294.433472</td>\n",
       "    </tr>\n",
       "    <tr>\n",
       "      <th>3374</th>\n",
       "      <td>102.263107</td>\n",
       "      <td>232.231064</td>\n",
       "      <td>1.288310e-09</td>\n",
       "      <td>3.225936e-17</td>\n",
       "      <td>282.054474</td>\n",
       "      <td>290.421173</td>\n",
       "      <td>275.131805</td>\n",
       "    </tr>\n",
       "    <tr>\n",
       "      <th>4966</th>\n",
       "      <td>84.371529</td>\n",
       "      <td>157.059128</td>\n",
       "      <td>4.308776e-09</td>\n",
       "      <td>5.351772e-24</td>\n",
       "      <td>301.114380</td>\n",
       "      <td>308.091553</td>\n",
       "      <td>295.771759</td>\n",
       "    </tr>\n",
       "    <tr>\n",
       "      <th>4898</th>\n",
       "      <td>112.747520</td>\n",
       "      <td>312.061737</td>\n",
       "      <td>3.106702e-12</td>\n",
       "      <td>1.646209e-16</td>\n",
       "      <td>293.713379</td>\n",
       "      <td>300.738068</td>\n",
       "      <td>286.623810</td>\n",
       "    </tr>\n",
       "    <tr>\n",
       "      <th>257</th>\n",
       "      <td>103.962410</td>\n",
       "      <td>219.334702</td>\n",
       "      <td>1.838627e-12</td>\n",
       "      <td>2.581992e-19</td>\n",
       "      <td>293.866547</td>\n",
       "      <td>303.037964</td>\n",
       "      <td>285.171997</td>\n",
       "    </tr>\n",
       "  </tbody>\n",
       "</table>\n",
       "</div>"
      ],
      "text/plain": [
       "            FLNS        FSNS         PRECT          PRSN      TREFHT  \\\n",
       "3141  132.101913  282.795959  1.133692e-18  1.683445e-22  301.627167   \n",
       "3374  102.263107  232.231064  1.288310e-09  3.225936e-17  282.054474   \n",
       "4966   84.371529  157.059128  4.308776e-09  5.351772e-24  301.114380   \n",
       "4898  112.747520  312.061737  3.106702e-12  1.646209e-16  293.713379   \n",
       "257   103.962410  219.334702  1.838627e-12  2.581992e-19  293.866547   \n",
       "\n",
       "        TREFHTMX    TREFHTMN  \n",
       "3141  308.214355  294.433472  \n",
       "3374  290.421173  275.131805  \n",
       "4966  308.091553  295.771759  \n",
       "4898  300.738068  286.623810  \n",
       "257   303.037964  285.171997  "
      ]
     },
     "metadata": {},
     "output_type": "display_data"
    },
    {
     "data": {
      "text/html": [
       "<div>\n",
       "<style scoped>\n",
       "    .dataframe tbody tr th:only-of-type {\n",
       "        vertical-align: middle;\n",
       "    }\n",
       "\n",
       "    .dataframe tbody tr th {\n",
       "        vertical-align: top;\n",
       "    }\n",
       "\n",
       "    .dataframe thead th {\n",
       "        text-align: right;\n",
       "    }\n",
       "</style>\n",
       "<table border=\"1\" class=\"dataframe\">\n",
       "  <thead>\n",
       "    <tr style=\"text-align: right;\">\n",
       "      <th></th>\n",
       "      <th>TREFMXAV</th>\n",
       "    </tr>\n",
       "  </thead>\n",
       "  <tbody>\n",
       "    <tr>\n",
       "      <th>3141</th>\n",
       "      <td>308.828857</td>\n",
       "    </tr>\n",
       "    <tr>\n",
       "      <th>3374</th>\n",
       "      <td>291.491394</td>\n",
       "    </tr>\n",
       "    <tr>\n",
       "      <th>4966</th>\n",
       "      <td>308.434662</td>\n",
       "    </tr>\n",
       "    <tr>\n",
       "      <th>4898</th>\n",
       "      <td>302.386292</td>\n",
       "    </tr>\n",
       "    <tr>\n",
       "      <th>257</th>\n",
       "      <td>303.614197</td>\n",
       "    </tr>\n",
       "  </tbody>\n",
       "</table>\n",
       "</div>"
      ],
      "text/plain": [
       "        TREFMXAV\n",
       "3141  308.828857\n",
       "3374  291.491394\n",
       "4966  308.434662\n",
       "4898  302.386292\n",
       "257   303.614197"
      ]
     },
     "metadata": {},
     "output_type": "display_data"
    },
    {
     "data": {
      "text/plain": [
       "1157"
      ]
     },
     "execution_count": 2,
     "metadata": {},
     "output_type": "execute_result"
    }
   ],
   "source": [
    "with open(\"./config_cesm2_climate_future.json\",'r') as load_f:\n",
    "#     param = json.loads(json.load(load_f))\n",
    "    param = json.load(load_f)\n",
    "    \n",
    "    model = param[\"model\"] # cesm2\n",
    "    urban_type = param[\"urban_type\"] # md\n",
    "    city_loc = param[\"city_loc\"] # {\"lat\": 40.0150, \"lon\": -105.2705}\n",
    "    l_component = param[\"l_component\"]\n",
    "    a_component = param[\"a_component\"]\n",
    "    experiment = param[\"experiment\"]\n",
    "    frequency = param[\"frequency\"]\n",
    "    cam_ls = param[\"cam_ls\"]\n",
    "    clm_ls = param[\"clm_ls\"]\n",
    "    forcing_variant = param[\"forcing_variant\"]\n",
    "    time = slice(param[\"time_start\"],param[\"time_end\"])\n",
    "    member_id = param[\"member_id\"]\n",
    "#     estimator_list = param[\"estimator_list\"]\n",
    "#     time_budget = param[\"time_budget\"]\n",
    "    features = param[\"features\"]\n",
    "    label = param[\"label\"]\n",
    "    clm_var_mask = param[\"label\"][0]\n",
    "    \n",
    "# get a dataset\n",
    "ds = util.get_data(model, city_loc, experiment, frequency, member_id, time, cam_ls, clm_ls,\n",
    "                   forcing_variant=forcing_variant, urban_type=urban_type)\n",
    "\n",
    "# create a dataframe\n",
    "ds['time'] = ds.indexes['time'].to_datetimeindex()\n",
    "df_future = ds.to_dataframe().reset_index().dropna()\n",
    "\n",
    "if \"PRSN\" in features:\n",
    "    df_future[\"PRSN\"] = df_future[\"PRECSC\"] + df_future[\"PRECSL\"]\n",
    "if \"PRECT\" in features:\n",
    "    df_future[\"PRECT\"] = df_future[\"PRECC\"] + df_future[\"PRECL\"]\n",
    "\n",
    "X_future_train, X_future_test, y_future_train, y_future_test = train_test_split(\n",
    "    df_future[features], df_future[label], test_size=0.05, random_state=66)\n",
    "display(X_future_train.head())\n",
    "display(y_future_train.head())\n",
    "    \n",
    "del ds\n",
    "gc.collect()"
   ]
  },
  {
   "cell_type": "markdown",
   "id": "21911de5",
   "metadata": {},
   "source": [
    "### Step 2: load present data (2016-01-02 to 2035-12-31)"
   ]
  },
  {
   "cell_type": "code",
   "execution_count": 3,
   "id": "2b74c98e",
   "metadata": {},
   "outputs": [
    {
     "name": "stdout",
     "output_type": "stream",
     "text": [
      "\n",
      "--> The keys in the returned dictionary of datasets are constructed as follows:\n",
      "\t'component.experiment.frequency.forcing_variant'\n"
     ]
    },
    {
     "data": {
      "text/html": [
       "\n",
       "<style>\n",
       "    /* Turns off some styling */\n",
       "    progress {\n",
       "        /* gets rid of default border in Firefox and Opera. */\n",
       "        border: none;\n",
       "        /* Needs to be in here for Safari polyfill so background images work as expected. */\n",
       "        background-size: auto;\n",
       "    }\n",
       "    .progress-bar-interrupted, .progress-bar-interrupted::-webkit-progress-bar {\n",
       "        background: #F44336;\n",
       "    }\n",
       "</style>\n"
      ],
      "text/plain": [
       "<IPython.core.display.HTML object>"
      ]
     },
     "metadata": {},
     "output_type": "display_data"
    },
    {
     "data": {
      "text/html": [
       "\n",
       "    <div>\n",
       "      <progress value='2' class='' max='2' style='width:300px; height:20px; vertical-align: middle;'></progress>\n",
       "      100.00% [2/2 00:01<00:00]\n",
       "    </div>\n",
       "    "
      ],
      "text/plain": [
       "<IPython.core.display.HTML object>"
      ]
     },
     "metadata": {},
     "output_type": "display_data"
    },
    {
     "name": "stdout",
     "output_type": "stream",
     "text": [
      "different lat between CAM and CLM subgrid info, adjust subgrid info's lat\n"
     ]
    },
    {
     "data": {
      "text/html": [
       "<div>\n",
       "<style scoped>\n",
       "    .dataframe tbody tr th:only-of-type {\n",
       "        vertical-align: middle;\n",
       "    }\n",
       "\n",
       "    .dataframe tbody tr th {\n",
       "        vertical-align: top;\n",
       "    }\n",
       "\n",
       "    .dataframe thead th {\n",
       "        text-align: right;\n",
       "    }\n",
       "</style>\n",
       "<table border=\"1\" class=\"dataframe\">\n",
       "  <thead>\n",
       "    <tr style=\"text-align: right;\">\n",
       "      <th></th>\n",
       "      <th>FLNS</th>\n",
       "      <th>FSNS</th>\n",
       "      <th>PRECT</th>\n",
       "      <th>PRSN</th>\n",
       "      <th>TREFHT</th>\n",
       "      <th>TREFHTMX</th>\n",
       "      <th>TREFHTMN</th>\n",
       "    </tr>\n",
       "  </thead>\n",
       "  <tbody>\n",
       "    <tr>\n",
       "      <th>3141</th>\n",
       "      <td>68.676613</td>\n",
       "      <td>199.265472</td>\n",
       "      <td>1.852086e-08</td>\n",
       "      <td>2.289983e-20</td>\n",
       "      <td>291.946472</td>\n",
       "      <td>300.030487</td>\n",
       "      <td>287.180969</td>\n",
       "    </tr>\n",
       "    <tr>\n",
       "      <th>3374</th>\n",
       "      <td>94.056053</td>\n",
       "      <td>220.666367</td>\n",
       "      <td>6.313760e-09</td>\n",
       "      <td>6.944248e-15</td>\n",
       "      <td>277.478851</td>\n",
       "      <td>284.147064</td>\n",
       "      <td>274.174713</td>\n",
       "    </tr>\n",
       "    <tr>\n",
       "      <th>4966</th>\n",
       "      <td>114.924210</td>\n",
       "      <td>275.390778</td>\n",
       "      <td>8.211864e-11</td>\n",
       "      <td>1.427359e-19</td>\n",
       "      <td>298.891174</td>\n",
       "      <td>307.201935</td>\n",
       "      <td>290.399048</td>\n",
       "    </tr>\n",
       "    <tr>\n",
       "      <th>4898</th>\n",
       "      <td>121.778847</td>\n",
       "      <td>326.139313</td>\n",
       "      <td>1.517838e-10</td>\n",
       "      <td>8.360884e-20</td>\n",
       "      <td>288.308014</td>\n",
       "      <td>294.743103</td>\n",
       "      <td>280.171753</td>\n",
       "    </tr>\n",
       "    <tr>\n",
       "      <th>257</th>\n",
       "      <td>89.618881</td>\n",
       "      <td>217.455154</td>\n",
       "      <td>1.282198e-11</td>\n",
       "      <td>1.113258e-15</td>\n",
       "      <td>283.563782</td>\n",
       "      <td>295.233582</td>\n",
       "      <td>277.655365</td>\n",
       "    </tr>\n",
       "  </tbody>\n",
       "</table>\n",
       "</div>"
      ],
      "text/plain": [
       "            FLNS        FSNS         PRECT          PRSN      TREFHT  \\\n",
       "3141   68.676613  199.265472  1.852086e-08  2.289983e-20  291.946472   \n",
       "3374   94.056053  220.666367  6.313760e-09  6.944248e-15  277.478851   \n",
       "4966  114.924210  275.390778  8.211864e-11  1.427359e-19  298.891174   \n",
       "4898  121.778847  326.139313  1.517838e-10  8.360884e-20  288.308014   \n",
       "257    89.618881  217.455154  1.282198e-11  1.113258e-15  283.563782   \n",
       "\n",
       "        TREFHTMX    TREFHTMN  \n",
       "3141  300.030487  287.180969  \n",
       "3374  284.147064  274.174713  \n",
       "4966  307.201935  290.399048  \n",
       "4898  294.743103  280.171753  \n",
       "257   295.233582  277.655365  "
      ]
     },
     "metadata": {},
     "output_type": "display_data"
    },
    {
     "data": {
      "text/html": [
       "<div>\n",
       "<style scoped>\n",
       "    .dataframe tbody tr th:only-of-type {\n",
       "        vertical-align: middle;\n",
       "    }\n",
       "\n",
       "    .dataframe tbody tr th {\n",
       "        vertical-align: top;\n",
       "    }\n",
       "\n",
       "    .dataframe thead th {\n",
       "        text-align: right;\n",
       "    }\n",
       "</style>\n",
       "<table border=\"1\" class=\"dataframe\">\n",
       "  <thead>\n",
       "    <tr style=\"text-align: right;\">\n",
       "      <th></th>\n",
       "      <th>TREFMXAV</th>\n",
       "    </tr>\n",
       "  </thead>\n",
       "  <tbody>\n",
       "    <tr>\n",
       "      <th>3141</th>\n",
       "      <td>300.976105</td>\n",
       "    </tr>\n",
       "    <tr>\n",
       "      <th>3374</th>\n",
       "      <td>285.210724</td>\n",
       "    </tr>\n",
       "    <tr>\n",
       "      <th>4966</th>\n",
       "      <td>307.383545</td>\n",
       "    </tr>\n",
       "    <tr>\n",
       "      <th>4898</th>\n",
       "      <td>296.533691</td>\n",
       "    </tr>\n",
       "    <tr>\n",
       "      <th>257</th>\n",
       "      <td>296.322083</td>\n",
       "    </tr>\n",
       "  </tbody>\n",
       "</table>\n",
       "</div>"
      ],
      "text/plain": [
       "        TREFMXAV\n",
       "3141  300.976105\n",
       "3374  285.210724\n",
       "4966  307.383545\n",
       "4898  296.533691\n",
       "257   296.322083"
      ]
     },
     "metadata": {},
     "output_type": "display_data"
    },
    {
     "data": {
      "text/plain": [
       "1503"
      ]
     },
     "execution_count": 3,
     "metadata": {},
     "output_type": "execute_result"
    }
   ],
   "source": [
    "with open(\"./config_cesm2_climate_present.json\",'r') as load_f:\n",
    "#     param = json.loads(json.load(load_f))\n",
    "    param = json.load(load_f)\n",
    "    \n",
    "    model = param[\"model\"] # cesm2\n",
    "    urban_type = param[\"urban_type\"] # md\n",
    "    city_loc = param[\"city_loc\"] # {\"lat\": 40.0150, \"lon\": -105.2705}\n",
    "    l_component = param[\"l_component\"]\n",
    "    a_component = param[\"a_component\"]\n",
    "    experiment = param[\"experiment\"]\n",
    "    frequency = param[\"frequency\"]\n",
    "    cam_ls = param[\"cam_ls\"]\n",
    "    clm_ls = param[\"clm_ls\"]\n",
    "    forcing_variant = param[\"forcing_variant\"]\n",
    "    time = slice(param[\"time_start\"],param[\"time_end\"])\n",
    "    member_id = param[\"member_id\"]\n",
    "    estimator_list = param[\"estimator_list\"]\n",
    "    time_budget = param[\"time_budget\"]\n",
    "    features = param[\"features\"]\n",
    "    label = param[\"label\"]\n",
    "    clm_var_mask = param[\"label\"][0]\n",
    "    \n",
    "# get a dataset\n",
    "ds = util.get_data(model, city_loc, experiment, frequency, member_id, time, cam_ls, clm_ls,\n",
    "                   forcing_variant=forcing_variant, urban_type=urban_type)\n",
    "\n",
    "# create a dataframe\n",
    "ds['time'] = ds.indexes['time'].to_datetimeindex()\n",
    "df_present = ds.to_dataframe().reset_index().dropna()\n",
    "\n",
    "if \"PRSN\" in features:\n",
    "    df_present[\"PRSN\"] = df_present[\"PRECSC\"] + df_present[\"PRECSL\"]\n",
    "if \"PRECT\" in features:\n",
    "    df_present[\"PRECT\"] = df_present[\"PRECC\"] + df_present[\"PRECL\"]\n",
    "\n",
    "X_present_train, X_present_test, y_present_train, y_present_test = train_test_split(\n",
    "    df_present[features], df_present[label], test_size=0.05, random_state=66)\n",
    "display(X_present_train.head())\n",
    "display(y_present_train.head())\n",
    "    \n",
    "del ds\n",
    "gc.collect()"
   ]
  },
  {
   "cell_type": "markdown",
   "id": "8a687d53",
   "metadata": {},
   "source": [
    "### Step 3: compare future and present training data"
   ]
  },
  {
   "cell_type": "code",
   "execution_count": 4,
   "id": "69fb6b10",
   "metadata": {},
   "outputs": [
    {
     "data": {
      "image/png": "[encoded data removed]",
      "text/plain": [
       "<Figure size 864x360 with 8 Axes>"
      ]
     },
     "metadata": {
      "needs_background": "light"
     },
     "output_type": "display_data"
    }
   ],
   "source": [
    "fig = plt.figure(figsize=(12,5))\n",
    "idx = 1\n",
    "for var in features:\n",
    "    ax = fig.add_subplot(math.ceil(math.ceil(len(features)/3)), 3, idx)\n",
    "    X_present_train[var].plot.kde(ax=ax)\n",
    "    X_future_train[var].plot.kde(ax=ax)\n",
    "    idx+=1\n",
    "    ax.set_title(var)\n",
    "\n",
    "var = \"TREFMXAV\"\n",
    "ax = fig.add_subplot(math.ceil(math.ceil(len(features)/3)), 3, idx)\n",
    "y_present_train[var].plot.kde(ax=ax, label=\"present\")\n",
    "y_future_train[var].plot.kde(ax=ax, label=\"future\")\n",
    "ax.set_title(var)\n",
    "plt.legend()\n",
    "\n",
    "plt.tight_layout()\n",
    "plt.show()"
   ]
  },
  {
   "cell_type": "markdown",
   "id": "confused-affect",
   "metadata": {},
   "source": [
    "### Step 4: automated machine learning"
   ]
  },
  {
   "cell_type": "markdown",
   "id": "defensive-footage",
   "metadata": {},
   "source": [
    "**train a model (emulator)**"
   ]
  },
  {
   "cell_type": "code",
   "execution_count": 5,
   "id": "023c3399",
   "metadata": {},
   "outputs": [
    {
     "name": "stdout",
     "output_type": "stream",
     "text": [
      "LGBMRegressor(learning_rate=0.07667973275997925, max_bin=1023,\n",
      "              min_child_samples=2, n_estimators=141, num_leaves=11,\n",
      "              reg_alpha=0.006311706639004055, reg_lambda=0.048417038177217056,\n",
      "              verbose=-1)\n",
      "root mean square error: 0.53\n",
      "r2: 0.998\n",
      "CPU times: user 7min 14s, sys: 7.27 s, total: 7min 21s\n",
      "Wall time: 30.1 s\n"
     ]
    }
   ],
   "source": [
    "%%time\n",
    "# setup for automl\n",
    "automl = AutoML()\n",
    "automl_settings = {\n",
    "    \"time_budget\": time_budget,  # in seconds\n",
    "    \"metric\": 'r2',\n",
    "    \"task\": 'regression',\n",
    "    \"estimator_list\":estimator_list,\n",
    "}\n",
    "\n",
    "# train the model\n",
    "automl.fit(X_train=X_present_train, y_train=y_present_train.values,\n",
    "           **automl_settings, verbose=-1)\n",
    "print(automl.model.estimator)\n",
    "\n",
    "# evaluate the model\n",
    "y_present_pred = automl.predict(X_present_test)\n",
    "print(\"root mean square error:\",\n",
    "      round(mean_squared_error(y_true=y_present_test, y_pred=y_present_pred, squared=False),3))\n",
    "print(\"r2:\",\n",
    "      round(r2_score(y_true=y_present_test, y_pred=y_present_pred),3))"
   ]
  },
  {
   "cell_type": "markdown",
   "id": "2a3f1176",
   "metadata": {},
   "source": [
    "**apply the model to future climate and evaluate**"
   ]
  },
  {
   "cell_type": "code",
   "execution_count": 6,
   "id": "65217ede",
   "metadata": {},
   "outputs": [
    {
     "name": "stdout",
     "output_type": "stream",
     "text": [
      "root mean square error: 0.741\n",
      "r2: 0.995\n"
     ]
    }
   ],
   "source": [
    "y_future_pred = automl.predict(X_future_test)\n",
    "print(\"root mean square error:\",\n",
    "      round(mean_squared_error(y_true=y_future_test, y_pred=y_future_pred, squared=False),3))\n",
    "print(\"r2:\",\n",
    "      round(r2_score(y_true=y_future_test, y_pred=y_future_pred),3))"
   ]
  },
  {
   "cell_type": "markdown",
   "id": "5c50734d",
   "metadata": {},
   "source": [
    "**use the future climate data to train and evaluate**"
   ]
  },
  {
   "cell_type": "code",
   "execution_count": 7,
   "id": "f56f72cf",
   "metadata": {},
   "outputs": [
    {
     "name": "stdout",
     "output_type": "stream",
     "text": [
      "ExtraTreesRegressor(max_features=0.926426234471867, max_leaf_nodes=501,\n",
      "                    n_estimators=119, n_jobs=-1)\n",
      "root mean square error: 0.665\n",
      "r2: 0.996\n",
      "CPU times: user 4min 50s, sys: 7 s, total: 4min 57s\n",
      "Wall time: 30.2 s\n"
     ]
    }
   ],
   "source": [
    "%%time\n",
    "# setup for automl\n",
    "automl = AutoML()\n",
    "automl_settings = {\n",
    "    \"time_budget\": time_budget,  # in seconds\n",
    "    \"metric\": 'r2',\n",
    "    \"task\": 'regression',\n",
    "    \"estimator_list\":estimator_list,\n",
    "}\n",
    "\n",
    "# train the model\n",
    "automl.fit(X_train=X_future_train, y_train=y_future_train.values,\n",
    "           **automl_settings, verbose=-1)\n",
    "print(automl.model.estimator)\n",
    "\n",
    "# evaluate the model\n",
    "y_future_pred = automl.predict(X_future_test)\n",
    "print(\"root mean square error:\",\n",
    "      round(mean_squared_error(y_true=y_future_test, y_pred=y_future_pred, squared=False),3))\n",
    "print(\"r2:\",\n",
    "      round(r2_score(y_true=y_future_test, y_pred=y_future_pred),3))"
   ]
  }
 ],
 "metadata": {
  "kernelspec": {
   "display_name": "Python 3 (ipykernel)",
   "language": "python",
   "name": "python3"
  },
  "language_info": {
   "codemirror_mode": {
    "name": "ipython",
    "version": 3
   },
   "file_extension": ".py",
   "mimetype": "text/x-python",
   "name": "python",
   "nbconvert_exporter": "python",
   "pygments_lexer": "ipython3",
   "version": "3.8.0"
  }
 },
 "nbformat": 4,
 "nbformat_minor": 5
}
